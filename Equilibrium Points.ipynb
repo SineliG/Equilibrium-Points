{
 "cells": [
  {
   "cell_type": "code",
   "execution_count": null,
   "metadata": {},
   "outputs": [],
   "source": [
    "import numpy as np \n",
    "import matplotlib.pyplot as pyplot\n",
    "from scipy import optimize as optimize "
   ]
  },
  {
   "cell_type": "code",
   "execution_count": null,
   "metadata": {},
   "outputs": [],
   "source": [
    "def equilibrium():\n",
    " \n",
    "    A = np.matrix([1.790010625, -0.92171773, 1.29798624, -0.51438081]).reshape(2,2)\n",
    "\n",
    "    AP = A/np.linalg.eig(A)[0][0]\n",
    "\n",
    "    v = np.linalg.eig(AP)[1][:,1].reshape((2,1))\n",
    "\n",
    "    AP = np.matrix(AP)\n",
    "\n",
    "    AP*v\n",
    "    \n",
    "    x = np.linalg.eig(AP)[1]\n",
    "    \n",
    "    answer = x[:,0]\n",
    "    \n",
    "    return(answer)"
   ]
  },
  {
   "cell_type": "code",
   "execution_count": null,
   "metadata": {},
   "outputs": [],
   "source": [
    "def equil2():\n",
    "   \n",
    "    def ff(x):\n",
    "        output = np.matrix(np.zeros((2,1))) \n",
    "        output[0,0] = x[0,0] + 1.9*(x[0,0])*(1 - (x[0,0])) - (x[0,0])*x[1,0]\n",
    "        output[1,0] = x[1,0] + 1.9*(x[1,0])*(1 - (x[1,0])) - (x[0,0])*x[1,0]\n",
    "        return(output)\n",
    "    \n",
    "    def wrapper_ff(x): \n",
    "        x = np.matrix(x).reshape((2,1))\n",
    "        output = ff(x) - x \n",
    "        return(np.array(output).reshape(2,))\n",
    "    \n",
    "    results = optimize.root(wrapper_ff,np.matrix([1,2]).reshape(2,1))\n",
    "    \n",
    "    answer = np.matrix([results.x]).reshape(2,1)\n",
    "    \n",
    "    return(answer)\n",
    "question_2()"
   ]
  },
  {
   "cell_type": "code",
   "execution_count": null,
   "metadata": {},
   "outputs": [],
   "source": [
    "def type_eq():\n",
    "\n",
    "    def JacFF(x):\n",
    "        t1 = 2.9 - 3.8*(x[0,0]) - (x[1,0])\n",
    "        t2 = -(x[0,0])\n",
    "        t3 = -(x[1,0])\n",
    "        t4 = 2.9 - 3.8*(x[1,0]) - (x[0,0])\n",
    "        JJ = np.matrix([t1,t2,t3,t4]).reshape(2,2)\n",
    "        return(JJ)\n",
    "    \n",
    "    J_1 = JacFF(np.matrix([0.65517241,0.65517241]).reshape(2,1))\n",
    "    \n",
    "    np.linalg.eig(J_1)[0] #dominant eig value = 0.89999998, <1, therefore stable\n",
    "    \n",
    "    answer = \"stable\"\n",
    "    \n",
    "    return(answer)"
   ]
  },
  {
   "cell_type": "code",
   "execution_count": null,
   "metadata": {},
   "outputs": [],
   "source": [
    "def d20(p):\n",
    "    \n",
    "    if p<=(1/20):\n",
    "        return(1)\n",
    "    if (1/20)<p<=(2/20):\n",
    "        return(2)\n",
    "    if (2/20)<p <=(3/20):\n",
    "        return(3)\n",
    "    if (3/20)<p<=(4/20):\n",
    "        return(4)\n",
    "    if (4/20)<p<=(5/20):\n",
    "        return(5)\n",
    "    if (5/20)<p<=(6/20):\n",
    "        return(6)\n",
    "    if (6/20)<p<=(7/20):\n",
    "        return(7)\n",
    "    if (7/20)<p<=(8/20):\n",
    "        return(8)\n",
    "    if (8/20)<p<=(9/20):\n",
    "        return(9)\n",
    "    if (9/20)<p<=(10/20):\n",
    "        return(10)\n",
    "    if (10/20)<p<=(11/20):\n",
    "        return(11)\n",
    "    if (11/20)<p<=(12/20):\n",
    "        return(12)\n",
    "    if (12/20)<p<=(13/20):\n",
    "        return(13)\n",
    "    if (13/20)<p<=(14/20):\n",
    "        return(14)\n",
    "    if (14/20)<p<=(15/20):\n",
    "        return(15)\n",
    "    if (15/20)<p<=(16/20):\n",
    "        return(16)\n",
    "    if (16/20)<p<=(17/20):\n",
    "        return(17)\n",
    "    if (17/20)<p<=(18/20):\n",
    "        return(18)\n",
    "    if (18/20)<p<=(19/20):\n",
    "        return(19)\n",
    "    if p>(19/20):\n",
    "        return(20)\n"
   ]
  }
 ],
 "metadata": {
  "kernelspec": {
   "display_name": "Python 3",
   "language": "python",
   "name": "python3"
  },
  "language_info": {
   "codemirror_mode": {
    "name": "ipython",
    "version": 3
   },
   "file_extension": ".py",
   "mimetype": "text/x-python",
   "name": "python",
   "nbconvert_exporter": "python",
   "pygments_lexer": "ipython3",
   "version": "3.8.3"
  }
 },
 "nbformat": 4,
 "nbformat_minor": 4
}
